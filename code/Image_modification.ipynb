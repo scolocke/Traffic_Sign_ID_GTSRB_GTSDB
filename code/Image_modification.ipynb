{
 "cells": [
  {
   "cell_type": "markdown",
   "id": "8a23d525",
   "metadata": {},
   "source": [
    "# Image modification\n",
    "\n",
    "This includes the functions and code for normalizing brightness and contrast of images. Seperate directories are made for all sets of images in GTSDB and GTSRB. "
   ]
  },
  {
   "cell_type": "code",
   "execution_count": 1,
   "id": "20a92fe9",
   "metadata": {},
   "outputs": [],
   "source": [
    "import cv2\n",
    "import numpy as np\n",
    "import matplotlib.pyplot as plt\n",
    "import cv2\n",
    "import glob\n",
    "import os"
   ]
  },
  {
   "cell_type": "markdown",
   "id": "01a7df88",
   "metadata": {},
   "source": [
    "Two functions taken for automatic contrast and brightness normalization. "
   ]
  },
  {
   "cell_type": "code",
   "execution_count": 2,
   "id": "391a2ef3",
   "metadata": {},
   "outputs": [],
   "source": [
    "# https://stackoverflow.com/questions/56905592/automatic-contrast-and-brightness-adjustment-of-a-color-photo-of-a-sheet-of-pape\n",
    "def convertScale(img, alpha, beta):\n",
    "    \"\"\"Add bias and gain to an image with saturation arithmetics. Unlike\n",
    "    cv2.convertScaleAbs, it does not take an absolute value, which would lead to\n",
    "    nonsensical results (e.g., a pixel at 44 with alpha = 3 and beta = -210\n",
    "    becomes 78 with OpenCV, when in fact it should become 0).\n",
    "    \"\"\"\n",
    "\n",
    "    new_img = img * alpha + beta\n",
    "    new_img[new_img < 0] = 0\n",
    "    new_img[new_img > 255] = 255\n",
    "    return new_img.astype(np.uint8)\n",
    "\n",
    "\n",
    "# Automatic brightness and contrast optimization with optional histogram clipping\n",
    "def automatic_brightness_and_contrast(image, clip_hist_percent=25):\n",
    "    gray = cv2.cvtColor(image, cv2.COLOR_BGR2GRAY)\n",
    "\n",
    "    # Calculate grayscale histogram\n",
    "    hist = cv2.calcHist([gray],[0],None,[256],[0,256])\n",
    "    hist_size = len(hist)\n",
    "\n",
    "    # Calculate cumulative distribution from the histogram\n",
    "    accumulator = []\n",
    "    accumulator.append(float(hist[0]))\n",
    "    for index in range(1, hist_size):\n",
    "        accumulator.append(accumulator[index -1] + float(hist[index]))\n",
    "\n",
    "    # Locate points to clip\n",
    "    maximum = accumulator[-1]\n",
    "    clip_hist_percent *= (maximum/100.0)\n",
    "    clip_hist_percent /= 2.0\n",
    "\n",
    "    # Locate left cut\n",
    "    minimum_gray = 0\n",
    "    while accumulator[minimum_gray] < clip_hist_percent:\n",
    "        minimum_gray += 1\n",
    "\n",
    "    # Locate right cut\n",
    "    maximum_gray = hist_size -1\n",
    "    while accumulator[maximum_gray] >= (maximum - clip_hist_percent):\n",
    "        maximum_gray -= 1\n",
    "\n",
    "    # Calculate alpha and beta values\n",
    "    alpha = 255 / (maximum_gray - minimum_gray)\n",
    "    beta = -minimum_gray * alpha\n",
    "\n",
    "    '''\n",
    "    # Calculate new histogram with desired range and show histogram \n",
    "    new_hist = cv2.calcHist([gray],[0],None,[256],[minimum_gray,maximum_gray])\n",
    "    plt.plot(hist)\n",
    "    plt.plot(new_hist)\n",
    "    plt.xlim([0,256])\n",
    "    plt.show()\n",
    "    '''\n",
    "\n",
    "    auto_result = convertScale(image, alpha=alpha, beta=beta)\n",
    "    return (auto_result, alpha, beta)\n"
   ]
  },
  {
   "cell_type": "markdown",
   "id": "1d41009a",
   "metadata": {},
   "source": [
    "Make a sample of normalized GSTRB images using the above functions. "
   ]
  },
  {
   "cell_type": "code",
   "execution_count": null,
   "id": "4270c411",
   "metadata": {},
   "outputs": [],
   "source": [
    "directory = '../GTSRB/GTSRB_Final_Training_Images/GTSRB/Final_Training/'\n",
    "try:\n",
    "    os.mkdir(f'{directory}/normalized')\n",
    "except:\n",
    "    pass\n",
    "\n",
    "train_images = []\n",
    "train_files = glob.glob(directory + 'Images/000*/*')  # iterate through all subfolders\n",
    "train_labels = []\n",
    "track_labels = []\n",
    "first_file = 0\n",
    "for file in train_files:\n",
    "    if '.ppm' in file:\n",
    "        image = cv2.imread(file)\n",
    "        auto_result, alpha, beta = automatic_brightness_and_contrast(image)\n",
    "        image_id = file[-15:-4]\n",
    "        track_id = file[-21:-16]\n",
    "        #print(f'{directory}/normalized/{track_id}/{image_id}_norm.ppm')\n",
    "        cv2.imwrite(f'{directory}/normalized/{track_id}/{image_id}_norm.ppm', auto_result)"
   ]
  },
  {
   "cell_type": "code",
   "execution_count": null,
   "id": "fb90de70",
   "metadata": {},
   "outputs": [],
   "source": [
    "directory = '../GTSRB/GTSRB_Final_Test_Images/GTSRB/Final_Test/'\n",
    "try:\n",
    "    os.mkdir(f'{directory}/normalized')\n",
    "except:\n",
    "    pass\n",
    "\n",
    "train_images = []\n",
    "train_files = glob.glob(directory + 'Images/*')  # iterate through all subfolders\n",
    "train_labels = []\n",
    "track_labels = []\n",
    "first_file = 0\n",
    "for file in train_files:\n",
    "    if '.ppm' in file:\n",
    "        image = cv2.imread(file)\n",
    "        auto_result, alpha, beta = automatic_brightness_and_contrast(image)\n",
    "        image_id = f'{file[-9:-4]}'\n",
    "        #print(f'{directory}/normalized/{track_id}/{image_id}_norm.ppm')\n",
    "        cv2.imwrite(f'{directory}/normalized/{image_id}_norm.ppm', auto_result)"
   ]
  },
  {
   "cell_type": "markdown",
   "id": "8d1e8a36",
   "metadata": {},
   "source": [
    "Normalization of the DTSDB images"
   ]
  },
  {
   "cell_type": "code",
   "execution_count": null,
   "id": "50b98eba",
   "metadata": {},
   "outputs": [],
   "source": [
    "for i in range(0,900):\n",
    "    image_id = str(i).rjust(5,'0')\n",
    "    image = cv2.imread(f'FullIJCNN2013/{image_id}.ppm')\n",
    "    auto_result, alpha, beta = automatic_brightness_and_contrast(image)\n",
    "    #cv.imshow('Normalized Image', final)\n",
    "    cv2.imwrite(f'FullIJCNN2013/normalized_full/{image_id}_norm.ppm', auto_result)"
   ]
  },
  {
   "cell_type": "code",
   "execution_count": null,
   "id": "c097d7dd",
   "metadata": {},
   "outputs": [],
   "source": [
    "plt.figure(figsize=(25,30))\n",
    "for i in range(6):\n",
    "    for j in range(5):\n",
    "        plt.subplot(6, 5, i*5 + j + 1)\n",
    "        image_id = str(i*5+j).rjust(5,'0')\n",
    "        image = cv2.imread(f'../GTSRB/GTSRB_Final_Training_Images/GTSRB/Final_Training/Images/00000/00000_{image_id}.ppm')\n",
    "        image = cv2.cvtColor(image, cv2.COLOR_BGR2RGB)\n",
    "        plt.imshow(image)\n",
    "plt.show()"
   ]
  },
  {
   "cell_type": "code",
   "execution_count": null,
   "id": "370ab718",
   "metadata": {},
   "outputs": [],
   "source": []
  },
  {
   "cell_type": "code",
   "execution_count": null,
   "id": "8fb35ea5",
   "metadata": {},
   "outputs": [],
   "source": []
  },
  {
   "cell_type": "code",
   "execution_count": null,
   "id": "3221863a",
   "metadata": {},
   "outputs": [],
   "source": []
  }
 ],
 "metadata": {
  "kernelspec": {
   "display_name": "Python 3",
   "language": "python",
   "name": "python3"
  },
  "language_info": {
   "codemirror_mode": {
    "name": "ipython",
    "version": 3
   },
   "file_extension": ".py",
   "mimetype": "text/x-python",
   "name": "python",
   "nbconvert_exporter": "python",
   "pygments_lexer": "ipython3",
   "version": "3.8.8"
  }
 },
 "nbformat": 4,
 "nbformat_minor": 5
}
